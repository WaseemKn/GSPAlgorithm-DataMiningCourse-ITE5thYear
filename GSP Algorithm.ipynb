{
 "cells": [
  {
   "cell_type": "markdown",
   "metadata": {
    "slideshow": {
     "slide_type": "slide"
    }
   },
   "source": [
    "# Generalized Sequential Pattern (GSP) Mining"
   ]
  },
  {
   "cell_type": "markdown",
   "metadata": {},
   "source": [
    "Here we've defined some drivers to help implementing the GSP algorithm from scratch (with some simplifying assumptions, like not having an itemset of length > 1 withing a sequence, although it matches many real situations, like text mining and website clicks analyzing)."
   ]
  },
  {
   "cell_type": "markdown",
   "metadata": {},
   "source": [
    "### BEFORE START, READ THIS:\n",
    "*This code is credit to WASEEM KNTAR and it's for all BUT if you have an assignment anywhere about this algorithm I prefer reading the code first and understanding it (it's not hard) THEN you can benefit from it as you want*."
   ]
  },
  {
   "cell_type": "code",
   "execution_count": 1,
   "metadata": {
    "collapsed": true,
    "slideshow": {
     "slide_type": "slide"
    }
   },
   "outputs": [],
   "source": [
    "DB = [[\"A\", \"C\", \"D\"],\n",
    "      [\"A\", \"B\", \"E\", \"F\", \"C\"],\n",
    "      [\"A\", \"C\", \"E\", \"C\"],\n",
    "      [\"A\", \"C\", \"A\"]]"
   ]
  },
  {
   "cell_type": "code",
   "execution_count": 2,
   "metadata": {
    "slideshow": {
     "slide_type": "slide"
    }
   },
   "outputs": [
    {
     "name": "stdout",
     "output_type": "stream",
     "text": [
      "True\n"
     ]
    }
   ],
   "source": [
    "from longest_common_subseq import lcs\n",
    "def within(seq1, seq2):\n",
    "    # returns true if seq1 is contained within seq2\n",
    "    # ex.1: within([A, B, A], [X, A, A, B, X, A]) = true\n",
    "    # ex.2: within([A, B, A], [X, A, A, B, X]) = false\n",
    "    return lcs(seq1, seq2)[0] == len(seq1)\n",
    "s1, s2 = ['A', 'B', 'A'], ['X', 'A', 'A', 'B', 'X', 'A']\n",
    "print(within(s1, s2))"
   ]
  },
  {
   "cell_type": "code",
   "execution_count": 3,
   "metadata": {
    "slideshow": {
     "slide_type": "slide"
    }
   },
   "outputs": [
    {
     "name": "stdout",
     "output_type": "stream",
     "text": [
      "['A', 'C', 'E']\n"
     ]
    }
   ],
   "source": [
    "from dic_sort import dic_sort\n",
    "def getL1(DB, min_sup = 2):\n",
    "    # returns L1 vector, which contains all DB items with sup >= min_sup\n",
    "    # ex: [[A, B, C], \n",
    "    #      [B],\n",
    "    #      [E, K]]\n",
    "    # => [[B]]\n",
    "    # our use case: [[A], [C], [E]]\n",
    "    vocabulary = []\n",
    "    for i in range(len(DB)):\n",
    "        for j in range(len(DB[i])):\n",
    "            if DB[i][j] not in vocabulary:\n",
    "                vocabulary.append(DB[i][j])\n",
    "    dic = {}\n",
    "    for i in range(len(DB)):\n",
    "        for j in range(len(vocabulary)):\n",
    "            if vocabulary[j] in DB[i]:\n",
    "                if dic.get(vocabulary[j]) == None:\n",
    "                    dic.update({vocabulary[j]: 0})\n",
    "                dic[vocabulary[j]] += 1\n",
    "    dic_L1 = {}\n",
    "    L1 = []\n",
    "    for key in dic.keys():\n",
    "        if dic[key] >= min_sup:\n",
    "            dic_L1.update({key: dic[key]})\n",
    "            L1.append(key)\n",
    "    return L1, dic_sort(dic_L1, reverse = True)\n",
    "\n",
    "L1, dic_L1 = getL1(DB, min_sup = 2)\n",
    "print(L1)"
   ]
  },
  {
   "cell_type": "code",
   "execution_count": 4,
   "metadata": {
    "slideshow": {
     "slide_type": "slide"
    }
   },
   "outputs": [
    {
     "name": "stdout",
     "output_type": "stream",
     "text": [
      "(False, None, None)\n",
      "[['A', 'E'], ['E', 'C'], ['A', 'C']]\n"
     ]
    }
   ],
   "source": [
    "from permutation_and_relation import two_list_permutations\n",
    "#['A', 'C', 'E']\n",
    "def getL2(DB, L1, min_sup = 2):\n",
    "    # returns L2 vector, which contains all length-2 itemsets with sup >= min_sup\n",
    "    # ex: [A, B] => [[A, A],[A, B],[B, A],[B, B]]\n",
    "    # our use case: [[A, C], [A, E], [E, C]]\n",
    "    permutations = two_list_permutations(L1, L1)\n",
    "    dic = {}\n",
    "    #calculate the support of generated length-2 itemset\n",
    "    for perm in permutations:\n",
    "        for transaction in DB:\n",
    "            if within(perm, transaction):\n",
    "                if dic.get(perm) == None:\n",
    "                    dic.update({perm: 0})\n",
    "                dic[perm] += 1\n",
    "    #print(dic)\n",
    "    dic_L2 = {}\n",
    "    L2 = []\n",
    "    for key in dic.keys():\n",
    "        if dic[key] >= min_sup:\n",
    "            dic_L2.update({key: dic[key]})\n",
    "            L2.append(list(key))\n",
    "    if L2 == []:\n",
    "        return None, None\n",
    "    return L2, dic_sort(dic_L2, reverse = True)\n",
    "L2, dic_L2 = getL2(DB, L1, min_sup = 2)\n",
    "print(L2)"
   ]
  },
  {
   "cell_type": "code",
   "execution_count": 5,
   "metadata": {
    "slideshow": {
     "slide_type": "slide"
    }
   },
   "outputs": [
    {
     "name": "stdout",
     "output_type": "stream",
     "text": [
      "[['A', 'E', 'C']]\n"
     ]
    }
   ],
   "source": [
    "from permutation_and_relation import is_there_relation\n",
    "def get_Lj_plus_1(DB, L_j, min_sup = 2):\n",
    "    # returns Lk vecotr, which contains all length-(k) itemsets generated from length-(k-1) vector with sup >= min_sup\n",
    "    # ex: [A, B, C] * [B, C, D] => [A, B, C, D]\n",
    "    # ex: [A, B, C, D] * [B, C, D, E] => [A, B, C, D, E]\n",
    "    # our use case: [A, E, C]\n",
    "    # remember the method we've used in class, refer to research \"Mining Sequential Patterns: Generalizations and Performance Improvements\"\n",
    "    # by Ramakrishnan and Rakesh Agrawal.\n",
    "    results = []\n",
    "    for i in range(len(L_j)):\n",
    "        for j in range(i, len(L_j)):\n",
    "            #print(i, j)\n",
    "            rel = is_there_relation(''.join(L_j[i]), ''.join(L_j[j]))\n",
    "            #print(rel)\n",
    "            if rel[0]:\n",
    "                if rel[1] != None:\n",
    "                    results.append(rel[1])\n",
    "                if rel[2] != None:\n",
    "                    results.append(rel[2])\n",
    "    if results == []:\n",
    "        return None, None\n",
    "    dic = {}\n",
    "    for result in results:\n",
    "        for transaction in DB:\n",
    "            if within(result, transaction):\n",
    "                if dic.get(result) == None:\n",
    "                    dic.update({result: 0})\n",
    "                dic[result] += 1\n",
    "                \n",
    "    dic_L_new = {}\n",
    "    L_new = []\n",
    "    for key in dic.keys():\n",
    "        if dic[key] >= min_sup:\n",
    "            dic_L_new.update({key: dic[key]})\n",
    "            L_new.append(list(key))\n",
    "    return L_new, dic_sort(dic_L_new, reverse = True)               \n",
    "L3, dic_L3 = get_Lj_plus_1(DB, L2, min_sup = 2)\n",
    "print(L3)"
   ]
  },
  {
   "cell_type": "code",
   "execution_count": 6,
   "metadata": {
    "slideshow": {
     "slide_type": "slide"
    }
   },
   "outputs": [
    {
     "data": {
      "text/plain": [
       "[['A', 'C', 'E'], [['A', 'E'], ['E', 'C'], ['A', 'C']], [['A', 'E', 'C']]]"
      ]
     },
     "execution_count": 6,
     "metadata": {},
     "output_type": "execute_result"
    }
   ],
   "source": [
    "def GSP(DB, min_sup = 2):\n",
    "    # use the above methods to get all of the frequent sequences of all lengths.\n",
    "    # the only trick is to know when to break the while loop..\n",
    "    # our use case:\n",
    "    #  lenght-1           length-2           length-3\n",
    "    #   A                  [A, C]              [A, E, C]\n",
    "    #   C                  [A, E]\n",
    "    #   E                  [E, C]\n",
    "    Ls = []\n",
    "    L1, _ = getL1(DB, min_sup)\n",
    "    Ls.append(L1)\n",
    "    if len(L1) >= 1:\n",
    "        L2, _ = getL2(DB, L1, min_sup)\n",
    "        if L2 != None:\n",
    "            Ls.append(L2)\n",
    "            i = 1\n",
    "            while len(Ls[i]) >= 1:\n",
    "                L_new, _ = get_Lj_plus_1(DB, Ls[i], min_sup)\n",
    "                if L_new == None:\n",
    "                    break\n",
    "                Ls.append(L_new)\n",
    "                i += 1\n",
    "    return Ls\n",
    "GSP(DB, min_sup = 2)"
   ]
  },
  {
   "cell_type": "markdown",
   "metadata": {
    "slideshow": {
     "slide_type": "slide"
    }
   },
   "source": [
    "## Let's test our implementation:"
   ]
  },
  {
   "cell_type": "code",
   "execution_count": 7,
   "metadata": {
    "collapsed": true,
    "slideshow": {
     "slide_type": "skip"
    }
   },
   "outputs": [],
   "source": [
    "A = \"A\";\n",
    "B =  \"B\";\n",
    "C = \"C\";\n",
    "D = \"D\";\n",
    "E = \"E\";\n",
    "F = \"F\";\n",
    "X = \"X\";\n",
    "DB = [[A, C, D],\n",
    "      [A, B, E, F, C],\n",
    "      [A, C, E, C],\n",
    "      [A, C, A]]"
   ]
  },
  {
   "cell_type": "code",
   "execution_count": 8,
   "metadata": {},
   "outputs": [
    {
     "name": "stdout",
     "output_type": "stream",
     "text": [
      "False\n",
      "False\n",
      "True\n",
      "True\n"
     ]
    }
   ],
   "source": [
    "print (within([A, B, A],[A, B]))  # false\n",
    "print (within([A, B],[B, X, A])) # false\n",
    "print (within([A, B, A],[A, A, X, B, X, A]))  # true\n",
    "print (within([A, B],[A, X, B]))  # true"
   ]
  },
  {
   "cell_type": "code",
   "execution_count": 9,
   "metadata": {},
   "outputs": [
    {
     "name": "stdout",
     "output_type": "stream",
     "text": [
      "[]\n",
      "['A']\n",
      "[]\n",
      "['A', 'B', 'C']\n",
      "['A']\n"
     ]
    }
   ],
   "source": [
    "print (getL1([[A, A]], min_sup = 2)[0]) # []\n",
    "print (getL1([[A, A]], min_sup = 1)[0]) # [A]\n",
    "print (getL1([[A, B], [C]], min_sup = 2)[0]) # []\n",
    "print (getL1([[A, B], [C]], min_sup = 1)[0]) # [[A], [B], [C]]\n",
    "print (getL1([[A, A], [A]], min_sup = 2)[0]) # [A]"
   ]
  },
  {
   "cell_type": "code",
   "execution_count": 10,
   "metadata": {},
   "outputs": [
    {
     "name": "stdout",
     "output_type": "stream",
     "text": [
      "[['A', 'B'], ['A', 'A']]\n",
      "None\n",
      "[['A', 'C'], ['C', 'A'], ['C', 'C'], ['A', 'A']]\n",
      "None\n",
      "[['B', 'F'], ['A', 'A'], ['A', 'B'], ['A', 'F']]\n"
     ]
    }
   ],
   "source": [
    "DB = [[A, C, D],\n",
    "      [A, B, E, F, C],\n",
    "      [A, C, E, C],\n",
    "      [A, C, A]]\n",
    "print (getL2(DB, [A, B], min_sup = 1)[0])# [[A, B], [A, A]]\n",
    "print (getL2(DB, [A, B], min_sup = 2)[0])# [] or [[]]\n",
    "print (getL2(DB, [A, C], min_sup = 1)[0])  # [[A, C], [C, A], [A, A], [C, C]]\n",
    "print (getL2(DB, [A, B, F], min_sup = 2)[0]) # []\n",
    "print (getL2(DB, [A, B, F], min_sup = 1)[0]) # [[A, B], [A, F], [B, F], [A, A]]"
   ]
  },
  {
   "cell_type": "code",
   "execution_count": 11,
   "metadata": {},
   "outputs": [
    {
     "name": "stdout",
     "output_type": "stream",
     "text": [
      "[['A', 'C', 'E'], [['A', 'E'], ['E', 'C'], ['A', 'C']], [['A', 'E', 'C']]]\n"
     ]
    }
   ],
   "source": [
    "DB = [[A, C, D],\n",
    "      [A, B, E, F, C],\n",
    "      [A, C, E, C],\n",
    "      [A, C, A]]\n",
    "print (GSP(DB, min_sup = 2)) # L1 = [[A], [C], [E]], L2 = [[A, C], [A, E], [E, C]], L3 = [[A, E, C]]"
   ]
  },
  {
   "cell_type": "code",
   "execution_count": 12,
   "metadata": {},
   "outputs": [
    {
     "name": "stdout",
     "output_type": "stream",
     "text": [
      "[['A', 'C'], [['A', 'C']]]\n"
     ]
    }
   ],
   "source": [
    "DB = [[A, C, D],\n",
    "      [A, B, E, F, C],\n",
    "      [A, C, E, C],\n",
    "      [A, C, A]]\n",
    "print (GSP(DB, min_sup = 3)) # L1 = [[A], [C]], L2 = [[A, C]]"
   ]
  },
  {
   "cell_type": "code",
   "execution_count": 13,
   "metadata": {},
   "outputs": [
    {
     "name": "stdout",
     "output_type": "stream",
     "text": [
      "[['A', 'C', 'E'], [['C', 'A'], ['A', 'E'], ['E', 'C'], ['A', 'A'], ['A', 'C']], [['A', 'C', 'A'], ['A', 'E', 'C']], []]\n"
     ]
    }
   ],
   "source": [
    "DB2 = [[A, C, D, A], # HERE WE ADD {A} to the end of the sequence\n",
    "      [A, B, E, F, C],\n",
    "      [A, C, E, C],\n",
    "      [A, C, A]]\n",
    "print (GSP(DB2, min_sup = 2)) # L1 = [[A], [C], [E]], L2 = [[A, E], [E, C], [C, A], [A, A]], L3 = [[A, C, A], [A, E, C]]"
   ]
  },
  {
   "cell_type": "code",
   "execution_count": 14,
   "metadata": {},
   "outputs": [
    {
     "name": "stdout",
     "output_type": "stream",
     "text": [
      "[['A'], [['A', 'A']], []]\n"
     ]
    }
   ],
   "source": [
    "DB3 = [[A, A], # HERE WE ADD {A} to the end of the sequence\n",
    "      [A],\n",
    "      [A, A, A]]\n",
    "print (GSP(DB3, min_sup = 2)) # L1 = [[A]], L2 = [[A, A]]"
   ]
  },
  {
   "cell_type": "code",
   "execution_count": 15,
   "metadata": {},
   "outputs": [
    {
     "name": "stdout",
     "output_type": "stream",
     "text": [
      "[['A'], [['A', 'A']], [['A', 'A', 'A']], []]\n"
     ]
    }
   ],
   "source": [
    "DB3 = [[A, A], # HERE WE ADD {A} to the end of the sequence\n",
    "      [A],\n",
    "      [A, A, A]]\n",
    "print (GSP(DB3, min_sup = 1)) # L1 = [[A]], L2 = [[A, A]], L3 = [[A, A, A]]"
   ]
  },
  {
   "cell_type": "code",
   "execution_count": null,
   "metadata": {
    "collapsed": true
   },
   "outputs": [],
   "source": []
  }
 ],
 "metadata": {
  "kernelspec": {
   "display_name": "Python 3",
   "language": "python",
   "name": "python3"
  },
  "language_info": {
   "codemirror_mode": {
    "name": "ipython",
    "version": 3
   },
   "file_extension": ".py",
   "mimetype": "text/x-python",
   "name": "python",
   "nbconvert_exporter": "python",
   "pygments_lexer": "ipython3",
   "version": "3.6.2"
  }
 },
 "nbformat": 4,
 "nbformat_minor": 2
}
